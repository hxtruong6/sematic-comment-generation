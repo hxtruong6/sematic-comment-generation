{
 "cells": [
  {
   "cell_type": "code",
   "execution_count": 1,
   "metadata": {},
   "outputs": [
    {
     "name": "stdout",
     "output_type": "stream",
     "text": [
      "‘setenv: Command not found.\n",
      "‘source: Command not found.\n",
      "\u001b[?1l\u001b>4165 \u001b[30m\u001b[1ms2220414  \u001b[17;27H\u001b[m\u001b[36m3262M 2385M 10\u001b[m\u001b[m780 S 18.2  9.9 \u001b[31m\u001b[1m 1h\u001b[m\u001b[m25:46 \u001b[32m/home/s2220414/\u001b[18;4H\u001b[m\u001b[m8069 s2110149  \u001b[18;27H\u001b[36m13\u001b[m\u001b[m244 \u001b[36m 8\u001b[m\u001b[m012 \u001b[36m 2\u001b[m\u001b[m948 \u001b[32mR \u001b[m\u001b[m 6.9  0.0  0:00.88 htop\u001b[K\u001b[19;7H5\u001b[19;45H\u001b[32mR \u001b[m\u001b[m 6.3\u001b[19;63H84\u001b[20;7H7\u001b[20;63H85\u001b[21;7H8\u001b[21;45H\u001b[31m\u001b[1mD \u001b[m\u001b[m 5.0\u001b[21;64H9\u001b[22;6H4\u001b[22;45H\u001b[31m\u001b[1mD \u001b[m\u001b[m 4.4\u001b[22;61H7.82\u001b[23;7H5\u001b[23;48H4.4\u001b[23;63H2\u001b[H2385M 10\u001b[m\u001b[m780 S 19.3  9.9  2:37.80 \u001b[32m/home/s2220414/\u001b[18;2H\u001b[m\u001b[m574163 \u001b[30m\u001b[1ms2220414  \u001b[m\u001b[m 20   0 \u001b[36m3262M 2385M 10\u001b[m\u001b[m780 S 19.3  9.9 \u001b[31m\u001b[1m 1h\u001b[m\u001b[m25:35 \u001b[32m/home/s2220414/\u001b[19;2H\u001b[m\u001b[m574164 \u001b[30m\u001b[1ms2220414  \u001b[m\u001b[m 20   0 \u001b[36m3262M 2385M 10\u001b[m\u001b[m780 S 19.3  9.9 \u001b[31m\u001b[1m 1h\u001b[m\u001b[m25:40 \u001b[32m/home/s2220414/\u001b[20;2H\u001b[m\u001b[m574141 \u001b[30m\u001b[1ms2220414  \u001b[m\u001b[m 20   0 \u001b[36m3262M 2385M 10\u001b[m\u001b[m780 S  9.6  9.9  2:38.79 \u001b[32m/home/s2220414/\u001b[21;2H\u001b[m\u001b[m574165 \u001b[30m\u001b[1ms2220414  \u001b[m\u001b[m 20   0 \u001b[36m3262M 2385M 10\u001b[m\u001b[m780 \u001b[32mR \u001b[m\u001b[m 9.6  9.9 \u001b[31m\u001b[1m 1h\u001b[m\u001b[m25:45 \u001b[32m/home/s2220414/\u001b[22;7H\u001b[m\u001b[m1 \u001b[30m\u001b[1mroot      \u001b[m\u001b[m 20   0 \u001b[36m 172M  9\u001b[m\u001b[m356 \u001b[36m 3\u001b[m\u001b[m908 S  0.0  0.0 \u001b[31m\u001b[1m 5h\u001b[m\u001b[m27:23 /sbin/init mayb\u001b[23;5H583 \u001b[30m\u001b[1mroot      \u001b[m\u001b[m 19 \u001b[31m -1 \u001b[36m 298M 20\u001b[m\u001b[m340 \u001b[36m14\u001b[m\u001b[m432 S  0.0  0.1 \u001b[31m\u001b[1m 7h\u001b[m\u001b[m52:32 /lib/systemd/sy\u001b[24;1HF1\u001b[30m\u001b[46mHelp  \u001b[m\u001b[mF2\u001b[30m\u001b[46mSetup \u001b[m\u001b[mF3\u001b[30m\u001b[46mSearch\u001b[m\u001b[mF4\u001b[30m\u001b[46mFilter\u001b[m\u001b[mF5\u001b[30m\u001b[46mTree  \u001b[m\u001b[mF6\u001b[30m\u001b[46mSortBy\u001b[m\u001b[mF7\u001b[30m\u001b[46mNice -\u001b[m\u001b[mF8\u001b[30m\u001b[46mNice +\u001b[m\u001b[mF9\u001b[30m\u001b[46mKill  \u001b[m\u001b[mF10\u001b[30m\u001b[46mQui\u001b[4ht\u001b[4l\u001b[H\u001b[m\u001b[m\u001b[2;8H\u001b[31m|||\u001b[30m\u001b[1m        \u001b[2;32H10.5\u001b[2;48H\u001b[m\u001b[31m|||||\u001b[30m\u001b[1m \u001b[2;70H21.5\u001b[3;13H\u001b[m\u001b[32m||\u001b[31m||\u001b[3;32H\u001b[30m\u001b[1m30.2\u001b[3;62H\u001b[m\u001b[31m|\u001b[30m\u001b[1m       57.1\u001b[4;18H\u001b[m\u001b[32m|||||||||||||\u001b[31m|\u001b[30m\u001b[1m79.4\u001b[4;46H\u001b[m\u001b[31m||||\u001b[30m\u001b[1m       \u001b[4;70H16.2\u001b[5;16H\u001b[m\u001b[31m|||\u001b[30m\u001b[1m             35.2\u001b[5;53H\u001b[m\u001b[31m||\u001b[30m\u001b[1m       \u001b[5;70H30.6\u001b[6;51H\u001b[36m3\u001b[6;64H\u001b[32m3\u001b[7;58H\u001b[m2 \u001b[36m7.12\u001b[8;69H7\u001b[2;8H\u001b[32m||\u001b[31m|||\u001b[2;33H\u001b[30m\u001b[1m7.3\u001b[2;48H\u001b[m\u001b[32m||||||||\u001b[31m||\u001b[2;70H\u001b[30m\u001b[1m39.7\u001b[3;15H\u001b[m\u001b[32m|||\u001b[31m|\u001b[3;33H\u001b[30m\u001b[1m6.3\u001b[3;55H\u001b[m\u001b[31m||||\u001b[30m\u001b[1m    \u001b[7C42\u001b[4;19H\u001b[m\u001b[31m||\u001b[30m\u001b[1m           43.1\u001b[4;46H\u001b[m\u001b[32m||\u001b[4;71H\u001b[30m\u001b[1m5.4\u001b[5;10H\u001b[m\u001b[31m|||\u001b[30m\u001b[1m      \u001b[5;32H16.0\u001b[5;53H\u001b[m\u001b[32m||||||||||\u001b[7C\u001b[30m\u001b[1m57.5\u001b[6;64H\u001b[32m5\u001b[8;69H\u001b[36m8\u001b[11;49H\u001b[m\u001b[30m\u001b[46m3\u001b[11;60H20.19\u001b[12;49H\u001b[m\u001b[m6\u001b[12;64H7\u001b[13;45H\u001b[32mR \u001b[m\u001b[m21.4\u001b[14;7H4\u001b[14;45HS 21.4\u001b[14;64H1\u001b[15;7H5\u001b[15;50H4\u001b[15;64H5\u001b[16;7H6\u001b[16;45H\u001b[32mR \u001b[m\u001b[m20.7\u001b[16;64H1\u001b[17;50H3\u001b[17;63H5\u001b[18;7H6\u001b[18;48H5.7\u001b[18;63H58\u001b[19;7H8\u001b[19;50H0\u001b[19;63H54\u001b[20;6H26\u001b[20;45HS \u001b[20;61H9.14\u001b[21;7H5\u001b[21;48H4.4\u001b[21;63H54\u001b[33\u001b[23;61H9.03\u001b[H\u001b[2;10H\u001b[32m|||||||||||||\u001b[31m|\u001b[2;32H\u001b[30m\u001b[1m54.7\u001b[2;52H\u001b[m\u001b[31m||||\u001b[30m\u001b[1m  \u001b[2;71H5.0\u001b[3;19H\u001b[m\u001b[31m|\u001b[3;32H\u001b[30m\u001b[1m41.0\u001b[3;48H\u001b[m\u001b[31m|||||\u001b[30m\u001b[1m      \u001b[3;70H23.4\u001b[4;14H\u001b[m\u001b[31m|||\u001b[30m\u001b[1m    \u001b[4;32H29.8\u001b[4;48H\u001b[m\u001b[32m||||\u001b[31m|||\u001b[4;70H\u001b[30m\u001b[1m30\u001b[5;10H\u001b[m\u001b[32m||||||\u001b[31m|||\u001b[5;32H\u001b[30m\u001b[1m37.3\u001b[5;57H\u001b[m\u001b[31m|\u001b[30m\u001b[1m     \u001b[7C39.4\u001b[6;51H\u001b[36m5\u001b[6;64H\u001b[32m4\u001b[2B\u001b[36m40:00\u001b[11;48H\u001b[m\u001b[30m\u001b[46m45\u001b[11;61H2.50\u001b[12;49H\u001b[m\u001b[m8\u001b[12;64H9\u001b[13;7H4\u001b[13;48H3.9\u001b[13;63H41\u001b[14;7H3\u001b[14;45H\u001b[31m\u001b[1mD \u001b[m\u001b[m22.0\u001b[14;63H36\u001b[15;7H6\u001b[15;48H2.0\u001b[15;64H1\u001b[16;7H5\u001b[16;45H\u001b[31m\u001b[1mD \u001b[m\u001b[m15.1\u001b[16;64H6\u001b[17;4H6745 \u001b[30m\u001b[1ms2110430  \u001b[17;27H\u001b[m\u001b[36m5772M 5031M 31\u001b[m\u001b[m304 \u001b[31m\u001b[1mD \u001b[m\u001b[m 6.9 20.9  0:07.65 \u001b[32m/home/s2110430/\u001b[18;6H\u001b[m\u001b[m23\u001b[18;45HS  6.9\u001b[18;61H9.44\u001b[19;4H8069 s2110149  \u001b[19;27H\u001b[36m13\u001b[m\u001b[m244 \u001b[36m 7\u001b[m\u001b[m760 \u001b[36m 2\u001b[m\u001b[m944 \u001b[32mR \u001b[m\u001b[m 6.3  0.0  0:00.66 htop\u001b[K\u001b[20;6H4\u001b[20;45H\u001b[31m\u001b[1mD \u001b[m\u001b[m 6.3\u001b[20;61H7.68\u001b[21;6H26\u001b[21;45HS  6.3\u001b[21;61H9.2\u001b[22;6H47\u001b[22;45H\u001b[31m\u001b[1mD \u001b[m\u001b[m 6.3\u001b[22;61H7.68\u001b[23;6H48\u001b[23;45H\u001b[31m\u001b[1mD \u001b[m\u001b[m 5.7\u001b[23;61H7.6\u001b[H\u001b[2;23H\u001b[32m|||||||||99.4%\u001b[2;52H||||\u001b[31m||\u001b[2;71H\u001b[30m\u001b[1m8.5\u001b[3;14H\u001b[m\u001b[31m|||\u001b[30m\u001b[1m   \u001b[3;32H30.6\u001b[3;46H\u001b[m\u001b[31m|\u001b[30m\u001b[1m      \u001b[3;70H 4\u001b[4;14H\u001b[m\u001b[32m|||\u001b[31m||\u001b[4;32H\u001b[30m\u001b[1m38.5\u001b[4;50H\u001b[m\u001b[31m|||\u001b[30m\u001b[1m  \u001b[4;70H21.0\u001b[5;13H\u001b[m\u001b[31m|||\u001b[30m\u001b[1m   \u001b[5;32H27.7\u001b[5;50H\u001b[m\u001b[31m|\u001b[30m\u001b[1m       \u001b[5;70H18.6\u001b[6;51H\u001b[36m4\u001b[7;58H\u001b[m4\u001b[7;68H\u001b[m\u001b[36m2\u001b[1B\u001b[1m2\u001b[11;48H\u001b[m\u001b[30m\u001b[46m32\u001b[11;61H4.62\u001b[12;48H\u001b[m\u001b[m21\u001b[12;63H51\u001b[13;7H6\u001b[13;45HS 23.7\u001b[13;64H2\u001b[14;45H\u001b[32mR \u001b[m\u001b[m23.1\u001b[15;7H5\u001b[15;48H3.1\u001b[15;64H6\u001b[16;7H4\u001b[16;45HS 19.3\u001b[16;64H1\u001b[17;4H8069 s2110149  \u001b[17;27H\u001b[36m13\u001b[m\u001b[m244 \u001b[36m 8\u001b[m\u001b[m012 \u001b[36m 2\u001b[m\u001b[m948 \u001b[32mR \u001b[m\u001b[m 6.9  0.0  0:00.77 htop\u001b[K\u001b[18;6H45\u001b[18;45H\u001b[31m\u001b[1mD \u001b[m\u001b[m 5.6\u001b[18;61H7.7\u001b[19;4H6747 \u001b[30m\u001b[1ms2110430  \u001b[19;27H\u001b[m\u001b[36m5772M 5031M 31\u001b[m\u001b[m304 \u001b[31m\u001b[1mD \u001b[m\u001b[m 5.6 20.9  0:07.77 \u001b[32m/home/s2110430/\u001b[20;7H\u001b[m\u001b[m8\u001b[20;48H5.0\u001b[20;63H71\u001b[21;6H4\u001b[21;45H\u001b[32mR \u001b[m\u001b[m 4.4\u001b[21;61H7.75\u001b[22;6H26\u001b[22;45HS  3.7\u001b[22;61H9.30\u001b[23;6H23\u001b[23;45HS  3.1\u001b[23;61H9.49\u001b[H\u001b[2;14H\u001b[31m|||\u001b[30m\u001b[1m               32.3%\u001b[2;56H\u001b[m\u001b[32m||\u001b[31m|||\u001b[2;70H\u001b[30m\u001b[1m48.4\u001b[3;14H\u001b[m\u001b[32m||\u001b[31m|||\u001b[3;33H\u001b[30m\u001b[1m9.1\u001b[3;46H\u001b[m\u001b[32m|||||||||\u001b[31m|||\u001b[3;70H\u001b[30m\u001b[1m40.6\u001b[4;17H\u001b[m\u001b[32m|||||||\u001b[31m|||\u001b[30m\u001b[1m     61.0\u001b[4;50H\u001b[m\u001b[32m|\u001b[31m|||\u001b[4;71H\u001b[30m\u001b[1m5.9\u001b[5;13H\u001b[m\u001b[32m|\u001b[31m|||\u001b[5;32H\u001b[30m\u001b[1m30.4\u001b[5;51H\u001b[m\u001b[31m||\u001b[5;70H\u001b[30m\u001b[1m24.7\u001b[8;69H\u001b[36m3\u001b[11;49H\u001b[m\u001b[30m\u001b[46m1\u001b[11;61H6.71\u001b[12;48H\u001b[m\u001b[m10\u001b[12;64H3\u001b[13;7H3\u001b[13;48H5\u001b[13;63H36\u001b[?1000l\u001b[24;1H\u001b[2J\u001b[?47l\u001b8\n"
     ]
    }
   ],
   "source": []
  },
  {
   "cell_type": "code",
   "execution_count": null,
   "metadata": {},
   "outputs": [],
   "source": []
  }
 ],
 "metadata": {
  "kernelspec": {
   "display_name": "Python 3.9.13 ('comment-env')",
   "language": "python",
   "name": "python3"
  },
  "language_info": {
   "codemirror_mode": {
    "name": "ipython",
    "version": 3
   },
   "file_extension": ".py",
   "mimetype": "text/x-python",
   "name": "python",
   "nbconvert_exporter": "python",
   "pygments_lexer": "ipython3",
   "version": "3.9.13 (main, Aug 25 2022, 23:26:10) \n[GCC 11.2.0]"
  },
  "orig_nbformat": 4,
  "vscode": {
   "interpreter": {
    "hash": "dc0001a48d57ae712317d63cb740c5d1c76a778113a7234faa272f3537a1970a"
   }
  }
 },
 "nbformat": 4,
 "nbformat_minor": 2
}
